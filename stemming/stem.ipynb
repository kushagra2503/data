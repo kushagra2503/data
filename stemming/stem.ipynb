{
 "cells": [
  {
   "cell_type": "markdown",
   "id": "50d152b3",
   "metadata": {},
   "source": [
    "## Stemming"
   ]
  },
  {
   "cell_type": "code",
   "execution_count": 1,
   "id": "69b0c1c5",
   "metadata": {},
   "outputs": [],
   "source": [
    "words = [\"eatings\", \"eaten\", \"eats\", \"writing\", \"writes\", \"write\", \"programming\", \"programmer\", \"programs\", \"history\", \"finally\", \"finalize\"]"
   ]
  },
  {
   "cell_type": "markdown",
   "id": "01e9105f",
   "metadata": {},
   "source": [
    "## Porterstemmer\n",
    "we are now trying to get the stem word"
   ]
  },
  {
   "cell_type": "code",
   "execution_count": 2,
   "id": "6eaddc5c",
   "metadata": {},
   "outputs": [],
   "source": [
    "from nltk.stem import PorterStemmer\n",
    "stemming = PorterStemmer()"
   ]
  },
  {
   "cell_type": "code",
   "execution_count": 3,
   "id": "0f879174",
   "metadata": {},
   "outputs": [
    {
     "name": "stdout",
     "output_type": "stream",
     "text": [
      "eatings---->eat\n",
      "eaten---->eaten\n",
      "eats---->eat\n",
      "writing---->write\n",
      "writes---->write\n",
      "write---->write\n",
      "programming---->program\n",
      "programmer---->programm\n",
      "programs---->program\n",
      "history---->histori\n",
      "finally---->final\n",
      "finalize---->final\n"
     ]
    }
   ],
   "source": [
    "for word in words:\n",
    "    print(word+\"---->\"+stemming.stem(word))"
   ]
  },
  {
   "cell_type": "code",
   "execution_count": null,
   "id": "9bb4151f",
   "metadata": {},
   "outputs": [
    {
     "data": {
      "text/plain": [
       "'congratul'"
      ]
     },
     "execution_count": 4,
     "metadata": {},
     "output_type": "execute_result"
    }
   ],
   "source": [
    "stemming.stem(\"congratulations\") ## its changing the meaning of the word "
   ]
  },
  {
   "cell_type": "markdown",
   "id": "0e919a55",
   "metadata": {},
   "source": [
    "## RegexpStemmer class\n",
    "Used to implement regular expression stemmer algos"
   ]
  },
  {
   "cell_type": "code",
   "execution_count": 5,
   "id": "d0f14bfe",
   "metadata": {},
   "outputs": [],
   "source": [
    "from nltk.stem import RegexpStemmer\n",
    "reg_stemmer = RegexpStemmer('ing$|s$|e$|able$', min=4)"
   ]
  },
  {
   "cell_type": "code",
   "execution_count": 8,
   "id": "95713043",
   "metadata": {},
   "outputs": [
    {
     "data": {
      "text/plain": [
       "'congratulation'"
      ]
     },
     "execution_count": 8,
     "metadata": {},
     "output_type": "execute_result"
    }
   ],
   "source": [
    "reg_stemmer.stem(\"congratulations\")\n"
   ]
  },
  {
   "cell_type": "code",
   "execution_count": 9,
   "id": "ec1c482a",
   "metadata": {},
   "outputs": [
    {
     "data": {
      "text/plain": [
       "'eat'"
      ]
     },
     "execution_count": 9,
     "metadata": {},
     "output_type": "execute_result"
    }
   ],
   "source": [
    "reg_stemmer.stem(\"eating\")"
   ]
  },
  {
   "cell_type": "markdown",
   "id": "50d6a08a",
   "metadata": {},
   "source": [
    "## Snowball stemmer\n",
    "performs better than porter stemmer"
   ]
  },
  {
   "cell_type": "code",
   "execution_count": 10,
   "id": "55903d40",
   "metadata": {},
   "outputs": [],
   "source": [
    "from nltk.stem import SnowballStemmer\n",
    "snowballstemmer=SnowballStemmer(\"english\")"
   ]
  },
  {
   "cell_type": "code",
   "execution_count": 11,
   "id": "6052c912",
   "metadata": {},
   "outputs": [
    {
     "name": "stdout",
     "output_type": "stream",
     "text": [
      "eatings---->eat\n",
      "eaten---->eaten\n",
      "eats---->eat\n",
      "writing---->write\n",
      "writes---->write\n",
      "write---->write\n",
      "programming---->program\n",
      "programmer---->programm\n",
      "programs---->program\n",
      "history---->histori\n",
      "finally---->final\n",
      "finalize---->final\n"
     ]
    }
   ],
   "source": [
    "for word in words:\n",
    "    print(word+\"---->\"+snowballstemmer.stem(word))"
   ]
  },
  {
   "cell_type": "markdown",
   "id": "1223a6b3",
   "metadata": {},
   "source": [
    "Comparing porter stemmer and snowball stemmer"
   ]
  },
  {
   "cell_type": "code",
   "execution_count": null,
   "id": "1a449801",
   "metadata": {},
   "outputs": [
    {
     "data": {
      "text/plain": [
       "('fairli', 'sportingli')"
      ]
     },
     "execution_count": 12,
     "metadata": {},
     "output_type": "execute_result"
    }
   ],
   "source": [
    "\n",
    "stemming.stem(\"fairly\"),stemming.stem(\"sportingly\")"
   ]
  },
  {
   "cell_type": "code",
   "execution_count": 13,
   "id": "7e536875",
   "metadata": {},
   "outputs": [
    {
     "data": {
      "text/plain": [
       "('fair', 'sport')"
      ]
     },
     "execution_count": 13,
     "metadata": {},
     "output_type": "execute_result"
    }
   ],
   "source": [
    "snowballstemmer.stem(\"fairly\"),snowballstemmer.stem(\"sportingly\")"
   ]
  },
  {
   "cell_type": "code",
   "execution_count": null,
   "id": "57868aaa",
   "metadata": {},
   "outputs": [],
   "source": []
  }
 ],
 "metadata": {
  "kernelspec": {
   "display_name": "Python 3",
   "language": "python",
   "name": "python3"
  },
  "language_info": {
   "codemirror_mode": {
    "name": "ipython",
    "version": 3
   },
   "file_extension": ".py",
   "mimetype": "text/x-python",
   "name": "python",
   "nbconvert_exporter": "python",
   "pygments_lexer": "ipython3",
   "version": "3.12.0"
  }
 },
 "nbformat": 4,
 "nbformat_minor": 5
}
