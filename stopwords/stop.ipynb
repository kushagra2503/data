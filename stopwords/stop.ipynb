{
 "cells": [
  {
   "cell_type": "markdown",
   "id": "9a471c5c",
   "metadata": {},
   "source": [
    "## Stopwords"
   ]
  },
  {
   "cell_type": "code",
   "execution_count": 12,
   "id": "7e620cd6",
   "metadata": {},
   "outputs": [],
   "source": [
    "paragraph = \"\"\"\n",
    "I am honored to be with you today at your\n",
    "commencement from one of the finest\n",
    "universities in the world. I never graduated from\n",
    "college. Truth be told, this is the closest I've ever\n",
    "gotten to a college graduation. Today I want to\n",
    "tell you three stories from my life. That's it. No big\n",
    "deal. Just three stories.\n",
    "The first story is about connecting the dots.\n",
    "I dropped out of Reed College after the first 6\n",
    "months, but then stayed around as a drop-in for\n",
    "another 18 months or so before I really quit. So\n",
    "why did I drop out?\n",
    "It started before I was born. My biological mother\n",
    "was a young, unwed college graduate student,\n",
    "\"Steve Jobs 1955-2011\" by segagman is licensed under CC BY 2.0.\n",
    "and she decided to put me up for adoption. She\n",
    "felt very strongly that I should be adopted by college graduates, so everything was all set for me to be\n",
    "adopted at birth by a lawyer and his wife. Except that when I popped out they decided at the last\n",
    "minute that they really wanted a girl. So my parents, who were on a waiting list, got a call in the middle\n",
    "of the night asking: \"We have an unexpected baby boy; do you want him?\" They said: \"Of course.\" My\n",
    "biological mother later found out that my mother had never graduated from college and that my\n",
    "father had never graduated from high school. She refused to sign the final adoption papers. She only\n",
    "relented a few months later when my parents promised that I would someday go to college.\n",
    "And 17 years later I did go to college. But I naively chose a college that was almost as expensive as\n",
    "Stanford, and all of my working-class parents' savings were being spent on my college tuition. After six\n",
    "months, I couldn't see the value in it. I had no idea what I wanted to do with my life and no idea how\n",
    "college was going to help me figure it out. And here I was spending all of the money my parents had\n",
    "saved their entire life. So I decided to drop out and trust that it would all work out OK. It was pretty\n",
    "scary at the time, but looking back it was one of the best decisions I ever made. The minute I dropped\n",
    "out I could stop taking the required classes that didn't interest me, and begin dropping in on the ones\n",
    "that looked interesting.\n",
    "It wasn't all romantic. I didn't have a dorm room, so I slept on the floor in friends' rooms, I returned\n",
    "coke bottles for the 5¢ deposits to buy food with, and I would walk the 7 miles across town every\n",
    "Sunday night to get one good meal a week at the Hare Krishna temple. I loved it. And much of what I\n",
    "stumbled into by following my curiosity and intuition turned out to be priceless later on. Let me give\n",
    "you one example:\n",
    "Reed College at that time offered perhaps the best calligraphy instruction in the country. Throughout\n",
    "the campus every poster, every label on every drawer, was beautifully hand calligraphed. Because I\n",
    "had dropped out and didn't have to take the normal classes, I decided to take a calligraphy class to\n",
    "learn how to do this. I learned about serif and san serif typefaces, about varying the amount of space\n",
    "between different letter combinations, about what makes great typography great. It was beautiful,\n",
    "historical, artistically subtle in a way that science can't capture, and I found it fascinating.\n",
    "None of this had even a hope of any practical application in my life. But ten years later, when we were\n",
    "designing the first Macintosh computer, it all came back to me. And we designed it all into the Mac. It\n",
    "was the first computer with beautiful typography. If I had never dropped in on that single course in\n",
    "college, the Mac would have never had multiple typefaces or proportionally spaced fonts. And since\n",
    "Windows just copied the Mac, it's likely that no personal computer would have them. If I had never\n",
    "dropped out, I would have never dropped in on this calligraphy class, and personal computers might\n",
    "not have the wonderful typography that they do. Of course it was impossible to connect the dots\n",
    "looking forward when I was in college. But it was very, very clear looking backwards ten years later.\n",
    "Again, you can't connect the dots looking forward; you can only connect them looking backwards. So\n",
    "you have to trust that the dots will somehow connect in your future. You have to trust in something —\n",
    "your gut, destiny, life, karma, whatever. This approach has never let me down, and it has made all the\n",
    "difference in my life.\n",
    "My second story is about love and loss.\n",
    "I was lucky — I found what I loved to do early in life. Woz and I started Apple in my parents’ garage\n",
    "when I was 20. We worked hard, and in 10 years Apple had grown from just the two of us in a garage\n",
    "into a $2 billion company with over 4000 employees. We had just released our finest creation — the\n",
    "Macintosh — a year earlier, and I had just turned 30. And then I got fired. How can you get fired from a\n",
    "company you started? Well, as Apple grew we hired someone who I thought was very talented to run\n",
    "the company with me, and for the first year or so things went well. But then our visions of the future\n",
    "began to diverge and eventually we had a falling out. When we did, our Board of Directors sided with\n",
    "him. So at 30 I was out. And very publicly out. What had been the focus of my entire adult life was\n",
    "gone, and it was devastating.\n",
    "I really didn't know what to do for a few months. I felt that I had let the previous generation of\n",
    "entrepreneurs down — that I had dropped the baton as it was being passed to me. I met with David\n",
    "Packard and Bob Noyce and tried to apologize for screwing up so badly. I was a very public failure, and\n",
    "I even thought about running away from the valley. But something slowly began to dawn on me — I\n",
    "still loved what I did. The turn of events at Apple had not changed that one bit. I had been rejected, but\n",
    "I was still in love. And so I decided to start over .\n",
    "I didn't see it then, but it turned out that getting fired from Apple was the best thing that could have\n",
    "ever happened to me. The heaviness of being successful was replaced by the lightness of being a\n",
    "beginner again, less sure about everything. It freed me to enter one of the most creative periods of my\n",
    "life.\n",
    "During the next five years, I started a company named NeXT, another company named Pixar, and fell in\n",
    "love with an amazing woman who would become my wife. Pixar went on to create the world’s first\n",
    "computer animated feature film,Toy Story, and is now the most successful animation studio in the\n",
    "world. In a remarkable turn of events, Apple bought NeXT, I returned to Apple, and the technology we\n",
    "developed at NeXT is at the heart of Apple's current renaissance. And Laurene and I have a wonderful\n",
    "family together.\n",
    "I'm pretty sure none of this would have happened if I hadn't been fired from Apple. It was awful tasting\n",
    "medicine, but I guess the patient needed it. Sometimes life hits you in the head with a brick. Don't lose\n",
    "faith. I'm convinced that the only thing that kept me going was that I loved what I did. You've got to find\n",
    "what you love. And that is as true for your work as it is for your lovers. Your work is going to fill a large\n",
    "part of your life, and the only way to be truly satisfied is to do what you believe is great work. And the\n",
    "only way to do great work is to love what you do. If you haven't found it yet, keep looking. Don't settle.\n",
    "As with all matters of the heart, you'll know when you find it. And, like any great relationship, it just\n",
    "gets better and better as the years roll on. So keep looking until you find it. Don't settle.\n",
    "My third story is about death.\n",
    "When I was 17, I read a quote that went something like: \"If you live each day as if it was your last,\n",
    "someday you'll most certainly be right.\" It made an impression on me, and since then, for the past 33\n",
    "years, I have looked in the mirror every morning and asked myself: \"If today were the last day of my\n",
    "life, would I want to do what I am about to do today?\" And whenever the answer has been \"No\" for too\n",
    "many days in a row, I know I need to change something.\n",
    "Remembering that I'll be dead soon is the most important tool I've ever encountered to help me make\n",
    "the big choices in life. Because almost everything — all external expectations, all pride, all fear of\n",
    "embarrassment or failure — these things just fall away in the face of death, leaving only what is truly\n",
    "important. Remembering that you are going to die is the best way I know to avoid the trap of thinking\n",
    "you have something to lose. You are already naked. There is no reason not to follow your heart.\n",
    "About a year ago I was diagnosed with cancer. I had a scan at 7:30 in the morning, and it clearly\n",
    "showed a tumor on my pancreas. I didn't even know what a pancreas was. The doctors told me this\n",
    "was almost certainly a type of cancer that is incurable, and that I should expect to live no longer than\n",
    "three to six months. My doctor advised me to go home and get my affairs in order, which is doctor's\n",
    "code for prepare to die. It means to try to tell your kids everything you thought you'd have the next 10\n",
    "years to tell them in just a few months. It means to make sure everything is buttoned up so that it will\n",
    "be as easy as possible for your family. It means to say your goodbyes.\n",
    "I lived with that diagnosis all day. Later that evening I had a biopsy, where they stuck an endoscope\n",
    "down my throat, through my stomach and into my intestines, put a needle into my pancreas and got a\n",
    "few cells from the tumor. I was sedated, but my wife, who was there, told me that when they viewed\n",
    "the cells under a microscope the doctors started crying because it turned out to be a very rare form of\n",
    "pancreatic cancer that is curable with surgery. I had the surgery and I'm fine now.\n",
    "This was the closest I've been to facing death, and I hope it's the closest I get for a few more decades.\n",
    "Having lived through it, I can now say this to you with a bit more certainty than when death was a\n",
    "useful but purely intellectual concept:\n",
    "No one wants to die. Even people who want to go to heaven don't want to die to get there. And yet\n",
    "death is the destination we all share. No one has ever escaped it. And that is as it should be, because\n",
    "Death is very likely the single best invention of Life. It is Life's change agent. It clears out the old to\n",
    "make way for the new. Right now the new is you, but someday not too long from now, you will\n",
    "gradually become the old and be cleared away. Sorry to be so dramatic, but it is quite true.\n",
    "Your time is limited, so don't waste it living someone else's life. Don't be trapped by dogma — which is\n",
    "living with the results of other people's thinking. Don't let the noise of others' opinions drown out your\n",
    "own inner voice. And most important, have the courage to follow your heart and intuition. They\n",
    "somehow already know what you truly want to become. Everything else is secondary.\n",
    "When I was young, there was an amazing publication calledThe Whole Earth Catalog, which was one of\n",
    "the bibles of my generation. It was created by a fellow named Stewart Brand not far from here in\n",
    "Menlo Park, and he brought it to life with his poetic touch. This was in the late 1960s, before personal\n",
    "computers and desktop publishing, so it was all made with typewriters, scissors, and polaroid cameras.\n",
    "It was sort of like Google in paperback form, 35 years before Google came along: it was idealistic, and\n",
    "overflowing with neat tools and great notions.\n",
    "Stewart and his team put out several issues ofThe Whole Earth Catalog, and then when it had run its\n",
    "course, they put out a final issue. It was the mid-1970s, and I was your age. On the back cover of their\n",
    "final issue was a photograph of an early morning country road, the kind you might find yourself\n",
    "hitchhiking on if you were so adventurous. Beneath it were the words: \"Stay Hungry. Stay Foolish.\" It\n",
    "was their farewell message as they signed off. Stay Hungry. Stay Foolish. And I have always wished that\n",
    "for myself. And now, as you graduate to begin anew, I wish that for you.\n",
    "Stay Hungry. Stay Foolish.\n",
    "Thank you all very much.\n",
    "\"\"\""
   ]
  },
  {
   "cell_type": "code",
   "execution_count": 1,
   "id": "d9739172",
   "metadata": {},
   "outputs": [],
   "source": [
    "from nltk.stem import PorterStemmer"
   ]
  },
  {
   "cell_type": "code",
   "execution_count": 3,
   "id": "36ecb62e",
   "metadata": {},
   "outputs": [],
   "source": [
    "from nltk.corpus import stopwords\n"
   ]
  },
  {
   "cell_type": "code",
   "execution_count": 4,
   "id": "fc90525e",
   "metadata": {},
   "outputs": [
    {
     "name": "stderr",
     "output_type": "stream",
     "text": [
      "[nltk_data] Downloading package stopwords to\n",
      "[nltk_data]     /Users/yashree/nltk_data...\n",
      "[nltk_data]   Unzipping corpora/stopwords.zip.\n"
     ]
    },
    {
     "data": {
      "text/plain": [
       "True"
      ]
     },
     "execution_count": 4,
     "metadata": {},
     "output_type": "execute_result"
    }
   ],
   "source": [
    "import nltk\n",
    "nltk.download('stopwords')"
   ]
  },
  {
   "cell_type": "code",
   "execution_count": null,
   "id": "b641b45c",
   "metadata": {},
   "outputs": [
    {
     "data": {
      "text/plain": [
       "['a',\n",
       " 'about',\n",
       " 'above',\n",
       " 'after',\n",
       " 'again',\n",
       " 'against',\n",
       " 'ain',\n",
       " 'all',\n",
       " 'am',\n",
       " 'an',\n",
       " 'and',\n",
       " 'any',\n",
       " 'are',\n",
       " 'aren',\n",
       " \"aren't\",\n",
       " 'as',\n",
       " 'at',\n",
       " 'be',\n",
       " 'because',\n",
       " 'been',\n",
       " 'before',\n",
       " 'being',\n",
       " 'below',\n",
       " 'between',\n",
       " 'both',\n",
       " 'but',\n",
       " 'by',\n",
       " 'can',\n",
       " 'couldn',\n",
       " \"couldn't\",\n",
       " 'd',\n",
       " 'did',\n",
       " 'didn',\n",
       " \"didn't\",\n",
       " 'do',\n",
       " 'does',\n",
       " 'doesn',\n",
       " \"doesn't\",\n",
       " 'doing',\n",
       " 'don',\n",
       " \"don't\",\n",
       " 'down',\n",
       " 'during',\n",
       " 'each',\n",
       " 'few',\n",
       " 'for',\n",
       " 'from',\n",
       " 'further',\n",
       " 'had',\n",
       " 'hadn',\n",
       " \"hadn't\",\n",
       " 'has',\n",
       " 'hasn',\n",
       " \"hasn't\",\n",
       " 'have',\n",
       " 'haven',\n",
       " \"haven't\",\n",
       " 'having',\n",
       " 'he',\n",
       " \"he'd\",\n",
       " \"he'll\",\n",
       " 'her',\n",
       " 'here',\n",
       " 'hers',\n",
       " 'herself',\n",
       " \"he's\",\n",
       " 'him',\n",
       " 'himself',\n",
       " 'his',\n",
       " 'how',\n",
       " 'i',\n",
       " \"i'd\",\n",
       " 'if',\n",
       " \"i'll\",\n",
       " \"i'm\",\n",
       " 'in',\n",
       " 'into',\n",
       " 'is',\n",
       " 'isn',\n",
       " \"isn't\",\n",
       " 'it',\n",
       " \"it'd\",\n",
       " \"it'll\",\n",
       " \"it's\",\n",
       " 'its',\n",
       " 'itself',\n",
       " \"i've\",\n",
       " 'just',\n",
       " 'll',\n",
       " 'm',\n",
       " 'ma',\n",
       " 'me',\n",
       " 'mightn',\n",
       " \"mightn't\",\n",
       " 'more',\n",
       " 'most',\n",
       " 'mustn',\n",
       " \"mustn't\",\n",
       " 'my',\n",
       " 'myself',\n",
       " 'needn',\n",
       " \"needn't\",\n",
       " 'no',\n",
       " 'nor',\n",
       " 'not',\n",
       " 'now',\n",
       " 'o',\n",
       " 'of',\n",
       " 'off',\n",
       " 'on',\n",
       " 'once',\n",
       " 'only',\n",
       " 'or',\n",
       " 'other',\n",
       " 'our',\n",
       " 'ours',\n",
       " 'ourselves',\n",
       " 'out',\n",
       " 'over',\n",
       " 'own',\n",
       " 're',\n",
       " 's',\n",
       " 'same',\n",
       " 'shan',\n",
       " \"shan't\",\n",
       " 'she',\n",
       " \"she'd\",\n",
       " \"she'll\",\n",
       " \"she's\",\n",
       " 'should',\n",
       " 'shouldn',\n",
       " \"shouldn't\",\n",
       " \"should've\",\n",
       " 'so',\n",
       " 'some',\n",
       " 'such',\n",
       " 't',\n",
       " 'than',\n",
       " 'that',\n",
       " \"that'll\",\n",
       " 'the',\n",
       " 'their',\n",
       " 'theirs',\n",
       " 'them',\n",
       " 'themselves',\n",
       " 'then',\n",
       " 'there',\n",
       " 'these',\n",
       " 'they',\n",
       " \"they'd\",\n",
       " \"they'll\",\n",
       " \"they're\",\n",
       " \"they've\",\n",
       " 'this',\n",
       " 'those',\n",
       " 'through',\n",
       " 'to',\n",
       " 'too',\n",
       " 'under',\n",
       " 'until',\n",
       " 'up',\n",
       " 've',\n",
       " 'very',\n",
       " 'was',\n",
       " 'wasn',\n",
       " \"wasn't\",\n",
       " 'we',\n",
       " \"we'd\",\n",
       " \"we'll\",\n",
       " \"we're\",\n",
       " 'were',\n",
       " 'weren',\n",
       " \"weren't\",\n",
       " \"we've\",\n",
       " 'what',\n",
       " 'when',\n",
       " 'where',\n",
       " 'which',\n",
       " 'while',\n",
       " 'who',\n",
       " 'whom',\n",
       " 'why',\n",
       " 'will',\n",
       " 'with',\n",
       " 'won',\n",
       " \"won't\",\n",
       " 'wouldn',\n",
       " \"wouldn't\",\n",
       " 'y',\n",
       " 'you',\n",
       " \"you'd\",\n",
       " \"you'll\",\n",
       " 'your',\n",
       " \"you're\",\n",
       " 'yours',\n",
       " 'yourself',\n",
       " 'yourselves',\n",
       " \"you've\"]"
      ]
     },
     "execution_count": 5,
     "metadata": {},
     "output_type": "execute_result"
    }
   ],
   "source": [
    "stopwords.words('english') ##Stopwords that we have in english "
   ]
  },
  {
   "cell_type": "code",
   "execution_count": 6,
   "id": "0b5cfd3e",
   "metadata": {},
   "outputs": [],
   "source": [
    "stemmer = PorterStemmer()"
   ]
  },
  {
   "cell_type": "code",
   "execution_count": null,
   "id": "549cb3ac",
   "metadata": {},
   "outputs": [
    {
     "name": "stdout",
     "output_type": "stream",
     "text": [
      "['\\nI am honored to be with you today at your\\ncommencement from one of the finest\\nuniversities in the world.', 'I never graduated from\\ncollege.', \"Truth be told, this is the closest I've ever\\ngotten to a college graduation.\", 'Today I want to\\ntell you three stories from my life.', \"That's it.\", 'No big\\ndeal.', 'Just three stories.', 'The first story is about connecting the dots.', 'I dropped out of Reed College after the first 6\\nmonths, but then stayed around as a drop-in for\\nanother 18 months or so before I really quit.', 'So\\nwhy did I drop out?', 'It started before I was born.', 'My biological mother\\nwas a young, unwed college graduate student,\\n\"Steve Jobs 1955-2011\" by segagman is licensed under CC BY 2.0.\\nand she decided to put me up for adoption.', 'She\\nfelt very strongly that I should be adopted by college graduates, so everything was all set for me to be\\nadopted at birth by a lawyer and his wife.', 'Except that when I popped out they decided at the last\\nminute that they really wanted a girl.', 'So my parents, who were on a waiting list, got a call in the middle\\nof the night asking: \"We have an unexpected baby boy; do you want him?\"', 'They said: \"Of course.\"', 'My\\nbiological mother later found out that my mother had never graduated from college and that my\\nfather had never graduated from high school.', 'She refused to sign the final adoption papers.', 'She only\\nrelented a few months later when my parents promised that I would someday go to college.', 'And 17 years later I did go to college.', \"But I naively chose a college that was almost as expensive as\\nStanford, and all of my working-class parents' savings were being spent on my college tuition.\", \"After six\\nmonths, I couldn't see the value in it.\", 'I had no idea what I wanted to do with my life and no idea how\\ncollege was going to help me figure it out.', 'And here I was spending all of the money my parents had\\nsaved their entire life.', 'So I decided to drop out and trust that it would all work out OK.', 'It was pretty\\nscary at the time, but looking back it was one of the best decisions I ever made.', \"The minute I dropped\\nout I could stop taking the required classes that didn't interest me, and begin dropping in on the ones\\nthat looked interesting.\", \"It wasn't all romantic.\", \"I didn't have a dorm room, so I slept on the floor in friends' rooms, I returned\\ncoke bottles for the 5¢ deposits to buy food with, and I would walk the 7 miles across town every\\nSunday night to get one good meal a week at the Hare Krishna temple.\", 'I loved it.', 'And much of what I\\nstumbled into by following my curiosity and intuition turned out to be priceless later on.', 'Let me give\\nyou one example:\\nReed College at that time offered perhaps the best calligraphy instruction in the country.', 'Throughout\\nthe campus every poster, every label on every drawer, was beautifully hand calligraphed.', \"Because I\\nhad dropped out and didn't have to take the normal classes, I decided to take a calligraphy class to\\nlearn how to do this.\", 'I learned about serif and san serif typefaces, about varying the amount of space\\nbetween different letter combinations, about what makes great typography great.', \"It was beautiful,\\nhistorical, artistically subtle in a way that science can't capture, and I found it fascinating.\", 'None of this had even a hope of any practical application in my life.', 'But ten years later, when we were\\ndesigning the first Macintosh computer, it all came back to me.', 'And we designed it all into the Mac.', 'It\\nwas the first computer with beautiful typography.', 'If I had never dropped in on that single course in\\ncollege, the Mac would have never had multiple typefaces or proportionally spaced fonts.', \"And since\\nWindows just copied the Mac, it's likely that no personal computer would have them.\", 'If I had never\\ndropped out, I would have never dropped in on this calligraphy class, and personal computers might\\nnot have the wonderful typography that they do.', 'Of course it was impossible to connect the dots\\nlooking forward when I was in college.', 'But it was very, very clear looking backwards ten years later.', \"Again, you can't connect the dots looking forward; you can only connect them looking backwards.\", 'So\\nyou have to trust that the dots will somehow connect in your future.', 'You have to trust in something —\\nyour gut, destiny, life, karma, whatever.', 'This approach has never let me down, and it has made all the\\ndifference in my life.', 'My second story is about love and loss.', 'I was lucky — I found what I loved to do early in life.', 'Woz and I started Apple in my parents’ garage\\nwhen I was 20.', 'We worked hard, and in 10 years Apple had grown from just the two of us in a garage\\ninto a $2 billion company with over 4000 employees.', 'We had just released our finest creation — the\\nMacintosh — a year earlier, and I had just turned 30.', 'And then I got fired.', 'How can you get fired from a\\ncompany you started?', 'Well, as Apple grew we hired someone who I thought was very talented to run\\nthe company with me, and for the first year or so things went well.', 'But then our visions of the future\\nbegan to diverge and eventually we had a falling out.', 'When we did, our Board of Directors sided with\\nhim.', 'So at 30 I was out.', 'And very publicly out.', 'What had been the focus of my entire adult life was\\ngone, and it was devastating.', \"I really didn't know what to do for a few months.\", 'I felt that I had let the previous generation of\\nentrepreneurs down — that I had dropped the baton as it was being passed to me.', 'I met with David\\nPackard and Bob Noyce and tried to apologize for screwing up so badly.', 'I was a very public failure, and\\nI even thought about running away from the valley.', 'But something slowly began to dawn on me — I\\nstill loved what I did.', 'The turn of events at Apple had not changed that one bit.', 'I had been rejected, but\\nI was still in love.', 'And so I decided to start over .', \"I didn't see it then, but it turned out that getting fired from Apple was the best thing that could have\\never happened to me.\", 'The heaviness of being successful was replaced by the lightness of being a\\nbeginner again, less sure about everything.', 'It freed me to enter one of the most creative periods of my\\nlife.', 'During the next five years, I started a company named NeXT, another company named Pixar, and fell in\\nlove with an amazing woman who would become my wife.', 'Pixar went on to create the world’s first\\ncomputer animated feature film,Toy Story, and is now the most successful animation studio in the\\nworld.', \"In a remarkable turn of events, Apple bought NeXT, I returned to Apple, and the technology we\\ndeveloped at NeXT is at the heart of Apple's current renaissance.\", 'And Laurene and I have a wonderful\\nfamily together.', \"I'm pretty sure none of this would have happened if I hadn't been fired from Apple.\", 'It was awful tasting\\nmedicine, but I guess the patient needed it.', 'Sometimes life hits you in the head with a brick.', \"Don't lose\\nfaith.\", \"I'm convinced that the only thing that kept me going was that I loved what I did.\", \"You've got to find\\nwhat you love.\", 'And that is as true for your work as it is for your lovers.', 'Your work is going to fill a large\\npart of your life, and the only way to be truly satisfied is to do what you believe is great work.', 'And the\\nonly way to do great work is to love what you do.', \"If you haven't found it yet, keep looking.\", \"Don't settle.\", \"As with all matters of the heart, you'll know when you find it.\", 'And, like any great relationship, it just\\ngets better and better as the years roll on.', 'So keep looking until you find it.', \"Don't settle.\", 'My third story is about death.', 'When I was 17, I read a quote that went something like: \"If you live each day as if it was your last,\\nsomeday you\\'ll most certainly be right.\"', 'It made an impression on me, and since then, for the past 33\\nyears, I have looked in the mirror every morning and asked myself: \"If today were the last day of my\\nlife, would I want to do what I am about to do today?\"', 'And whenever the answer has been \"No\" for too\\nmany days in a row, I know I need to change something.', \"Remembering that I'll be dead soon is the most important tool I've ever encountered to help me make\\nthe big choices in life.\", 'Because almost everything — all external expectations, all pride, all fear of\\nembarrassment or failure — these things just fall away in the face of death, leaving only what is truly\\nimportant.', 'Remembering that you are going to die is the best way I know to avoid the trap of thinking\\nyou have something to lose.', 'You are already naked.', 'There is no reason not to follow your heart.', 'About a year ago I was diagnosed with cancer.', 'I had a scan at 7:30 in the morning, and it clearly\\nshowed a tumor on my pancreas.', \"I didn't even know what a pancreas was.\", 'The doctors told me this\\nwas almost certainly a type of cancer that is incurable, and that I should expect to live no longer than\\nthree to six months.', \"My doctor advised me to go home and get my affairs in order, which is doctor's\\ncode for prepare to die.\", \"It means to try to tell your kids everything you thought you'd have the next 10\\nyears to tell them in just a few months.\", 'It means to make sure everything is buttoned up so that it will\\nbe as easy as possible for your family.', 'It means to say your goodbyes.', 'I lived with that diagnosis all day.', 'Later that evening I had a biopsy, where they stuck an endoscope\\ndown my throat, through my stomach and into my intestines, put a needle into my pancreas and got a\\nfew cells from the tumor.', 'I was sedated, but my wife, who was there, told me that when they viewed\\nthe cells under a microscope the doctors started crying because it turned out to be a very rare form of\\npancreatic cancer that is curable with surgery.', \"I had the surgery and I'm fine now.\", \"This was the closest I've been to facing death, and I hope it's the closest I get for a few more decades.\", 'Having lived through it, I can now say this to you with a bit more certainty than when death was a\\nuseful but purely intellectual concept:\\nNo one wants to die.', \"Even people who want to go to heaven don't want to die to get there.\", 'And yet\\ndeath is the destination we all share.', 'No one has ever escaped it.', 'And that is as it should be, because\\nDeath is very likely the single best invention of Life.', \"It is Life's change agent.\", 'It clears out the old to\\nmake way for the new.', 'Right now the new is you, but someday not too long from now, you will\\ngradually become the old and be cleared away.', 'Sorry to be so dramatic, but it is quite true.', \"Your time is limited, so don't waste it living someone else's life.\", \"Don't be trapped by dogma — which is\\nliving with the results of other people's thinking.\", \"Don't let the noise of others' opinions drown out your\\nown inner voice.\", 'And most important, have the courage to follow your heart and intuition.', 'They\\nsomehow already know what you truly want to become.', 'Everything else is secondary.', 'When I was young, there was an amazing publication calledThe Whole Earth Catalog, which was one of\\nthe bibles of my generation.', 'It was created by a fellow named Stewart Brand not far from here in\\nMenlo Park, and he brought it to life with his poetic touch.', 'This was in the late 1960s, before personal\\ncomputers and desktop publishing, so it was all made with typewriters, scissors, and polaroid cameras.', 'It was sort of like Google in paperback form, 35 years before Google came along: it was idealistic, and\\noverflowing with neat tools and great notions.', 'Stewart and his team put out several issues ofThe Whole Earth Catalog, and then when it had run its\\ncourse, they put out a final issue.', 'It was the mid-1970s, and I was your age.', 'On the back cover of their\\nfinal issue was a photograph of an early morning country road, the kind you might find yourself\\nhitchhiking on if you were so adventurous.', 'Beneath it were the words: \"Stay Hungry.', 'Stay Foolish.\"', 'It\\nwas their farewell message as they signed off.', 'Stay Hungry.', 'Stay Foolish.', 'And I have always wished that\\nfor myself.', 'And now, as you graduate to begin anew, I wish that for you.', 'Stay Hungry.', 'Stay Foolish.', 'Thank you all very much.']\n"
     ]
    }
   ],
   "source": [
    "sentences=nltk.sent_tokenize(paragraph)\n",
    "print(sentences)"
   ]
  },
  {
   "cell_type": "code",
   "execution_count": 16,
   "id": "d26af57e",
   "metadata": {},
   "outputs": [
    {
     "name": "stdout",
     "output_type": "stream",
     "text": [
      "<class 'list'>\n"
     ]
    }
   ],
   "source": [
    "print(type(sentences))"
   ]
  },
  {
   "cell_type": "code",
   "execution_count": 18,
   "id": "4873a391",
   "metadata": {},
   "outputs": [
    {
     "name": "stdout",
     "output_type": "stream",
     "text": [
      "['honor today commenc one finest univ world .', 'never graduat colleg .', \"truth told , closest 've ever gotten colleg graduat .\", 'today want tell three stori life .', \"'s .\", 'big deal .', 'three stori .', 'first stori connect dot .', 'drop reed colleg first 6 month , stay around drop-in anoth 18 month realli quit .', 'drop ?', 'start born .', 'biolog mother young , unw colleg graduat student , `` steve job 1955-2011 `` segagman licen cc 2.0. decid put adopt .', 'felt strongli adopt colleg graduat , everyth set adopt birth lawyer wife .', 'except pop decid last minut realli want girl .', 'parent , wait list , got call middl night ask : `` unexpect babi boy ; want ? ``', 'said : `` cour . ``', 'biolog mother later found mother never graduat colleg father never graduat high school .', 'refu sign final adopt paper .', 'relent month later parent promi would someday go colleg .', '17 year later go colleg .', \"naiv chose colleg almost expen stanford , working-class parent ' save spent colleg tuition .\", \"six month , could n't see valu .\", 'idea want life idea colleg go help figur .', 'spend money parent save entir life .', 'decid drop trust would work ok .', 'pretti scari time , look back one best deci ever made .', \"minut drop could stop take requir class n't interest , begin drop one look interest .\", \"n't romant .\", \"n't dorm room , slept floor friend ' room , return coke bottl 5¢ deposit buy food , would walk 7 mile across town everi sunday night get one good meal week hare krishna templ .\", 'love .', 'much stumbl follow curio intuit turn priceless later .', 'let give one exampl : reed colleg time offer perhap best calligraphi instruct countri .', 'throughout campu everi poster , everi label everi drawer , beauti hand calligraph .', \"becau drop n't take normal class , decid take calligraphi class learn .\", 'learn serif san serif typefac , vari amount space differ letter combin , make great typographi great .', \"beauti , histor , artist subtl way scienc ca n't captur , found fascin .\", 'none even hope practic applic life .', 'ten year later , design first macintosh comput , came back .', 'design mac .', 'first comput beauti typographi .', 'never drop singl cour colleg , mac would never multipl typefac proport space font .', \"sinc window copi mac , 's like person comput would .\", 'never drop , would never drop calligraphi class , person comput might wonder typographi .', 'cour imposs connect dot look forward colleg .', ', clear look backward ten year later .', \", ca n't connect dot look forward ; connect look backward .\", 'trust dot somehow connect futur .', 'trust someth — gut , destini , life , karma , whatev .', 'thi approach never let , made differ life .', 'second stori love loss .', 'lucki — found love earli life .', 'woz start appl parent ’ garag 20 .', 'work hard , 10 year appl grown two us garag $ 2 billion compani 4000 employ .', 'relea finest creation — macintosh — year earlier , turn 30 .', 'got fire .', 'get fire compani start ?', 'well , appl grew hire someon thought talent run compani , first year thing went well .', 'vision futur began diverg eventu fall .', ', board director side .', '30 .', 'publicli .', 'focu entir adult life gone , devast .', \"realli n't know month .\", 'felt let previou gener entrepreneur — drop baton pass .', 'met david packard bob noyc tri apolog screw badli .', 'public failur , even thought run away valley .', 'someth slowli began dawn — still love .', 'turn event appl chang one bit .', 'reject , still love .', 'decid start .', \"n't see , turn get fire appl best thing could ever happen .\", 'heavi success replac light beginn , less sure everyth .', 'freed enter one creativ period life .', 'dure next five year , start compani name next , anoth compani name pixar , fell love amaz woman would becom wife .', 'pixar went creat world ’ first comput anim featur film , toy stori , success anim studio world .', \"remark turn event , appl bought next , return appl , technolog develop next heart appl 's current renaiss .\", 'lauren wonder famili togeth .', \"'m pretti sure none would happen n't fire appl .\", 'aw tast medicin , guess patient need .', 'sometim life hit head brick .', \"n't lose faith .\", \"'m convinc thing kept go love .\", \"'ve got find love .\", 'true work lover .', 'work go fill larg part life , way truli satisfi believ great work .', 'way great work love .', \"n't found yet , keep look .\", \"n't settl .\", \"matter heart , 'll know find .\", ', like great relationship , get better better year roll .', 'keep look find .', \"n't settl .\", 'third stori death .', \"17 , read quot went someth like : `` live day last , someday 'll certainli right . ``\", 'made impress , sinc , past 33 year , look mirror everi morn ask : `` today last day life , would want today ? ``', 'whenev answer `` `` mani day row , know need chang someth .', \"rememb 'll dead soon import tool 've ever encount help make big choic life .\", 'becau almost everyth — extern expect , pride , fear embarrass failur — thing fall away face death , leav truli import .', 'rememb go die best way know avoid trap think someth lose .', 'alreadi nake .', 'reason follow heart .', 'year ago diagno cancer .', 'scan 7:30 morn , clearli show tumor pancrea .', \"n't even know pancrea .\", 'doctor told almost certainli type cancer incur , expect live longer three six month .', \"doctor advi go home get affair order , doctor 's code prepar die .\", \"mean tri tell kid everyth thought 'd next 10 year tell month .\", 'mean make sure everyth button easi possibl famili .', 'mean say goodbi .', 'live diagnosi day .', 'later even biopsi , stuck endoscop throat , stomach intestin , put needl pancrea got cell tumor .', 'sedat , wife , , told view cell microscop doctor start cri turn rare form pancreat cancer curabl surgeri .', \"surgeri 'm fine .\", \"thi closest 've face death , hope 's closest get decad .\", 'live , say bit certainti death use pure intellectu concept : one want die .', \"even peopl want go heaven n't want die get .\", 'yet death destin share .', 'one ever escap .', ', death like singl best invent life .', \"life 's chang agent .\", 'clear old make way new .', 'right new , someday long , gradual becom old clear away .', 'sorri dramat , quit true .', \"time limit , n't wast live someon el 's life .\", \"n't trap dogma — live result peopl 's think .\", \"n't let noi ' opinion drown inner voic .\", 'import , courag follow heart intuit .', 'somehow alreadi know truli want becom .', 'everyth el secondari .', 'young , amaz public calledth whole earth catalog , one bibl gener .', 'creat fellow name stewart brand far menlo park , brought life poetic touch .', 'thi late 1960 , person comput desktop publish , made typewrit , scissor , polaroid camera .', 'sort like googl paperback form , 35 year googl came along : idealist , overflow neat tool great notion .', 'stewart team put sever issu ofth whole earth catalog , run cour , put final issu .', 'mid-1970 , age .', 'back cover final issu photograph earli morn countri road , kind might find hitchhik adventur .', 'beneath word : `` stay hungri .', 'stay foolish . ``', 'farewel messag sign .', 'stay hungri .', 'stay foolish .', 'alway wish .', ', graduat begin anew , wish .', 'stay hungri .', 'stay foolish .', 'thank much .']\n"
     ]
    }
   ],
   "source": [
    "## Apply stopwords and filter then apply stemming\n",
    "for i in range(len(sentences)):\n",
    "    words=nltk.word_tokenize(sentences[i])\n",
    "    words=[stemmer.stem(word) for word in words if word not in set(stopwords.words('english'))] #List comprehension\n",
    "    sentences[i]=' '.join(words) ##Joining all the words\n",
    "print(sentences)\n",
    "    "
   ]
  },
  {
   "cell_type": "code",
   "execution_count": 20,
   "id": "ae5be7e6",
   "metadata": {},
   "outputs": [],
   "source": [
    "from nltk.stem import SnowballStemmer\n",
    "snowball_stemmer=SnowballStemmer('english')"
   ]
  },
  {
   "cell_type": "code",
   "execution_count": 21,
   "id": "2eb62aa7",
   "metadata": {},
   "outputs": [
    {
     "name": "stdout",
     "output_type": "stream",
     "text": [
      "['honor today commenc one finest univ world .', 'never graduat colleg .', 'truth told , closest ve ever gotten colleg graduat .', 'today want tell three stori life .', \"'s .\", 'big deal .', 'three stori .', 'first stori connect dot .', 'drop reed colleg first 6 month , stay around drop-in anoth 18 month realli quit .', 'drop ?', 'start born .', 'biolog mother young , unw colleg graduat student , `` steve job 1955-2011 `` segagman licen cc 2.0. decid put adopt .', 'felt strong adopt colleg graduat , everyth set adopt birth lawyer wife .', 'except pop decid last minut realli want girl .', 'parent , wait list , got call middl night ask : `` unexpect babi boy ; want ? ``', 'said : `` cour . ``', 'biolog mother later found mother never graduat colleg father never graduat high school .', 'refu sign final adopt paper .', 'relent month later parent promi would someday go colleg .', '17 year later go colleg .', \"naiv chose colleg almost expen stanford , working-class parent ' save spent colleg tuition .\", \"six month , could n't see valu .\", 'idea want life idea colleg go help figur .', 'spend money parent save entir life .', 'decid drop trust would work ok .', 'pretti scari time , look back one best deci ever made .', \"minut drop could stop take requir class n't interest , begin drop one look interest .\", \"n't romant .\", \"n't dorm room , slept floor friend ' room , return coke bottl 5¢ deposit buy food , would walk 7 mile across town everi sunday night get one good meal week hare krishna templ .\", 'love .', 'much stumbl follow curio intuit turn priceless later .', 'let give one exampl : reed colleg time offer perhap best calligraphi instruct countri .', 'throughout campu everi poster , everi label everi drawer , beauti hand calligraph .', \"becau drop n't take normal class , decid take calligraphi class learn .\", 'learn serif san serif typefac , vari amount space differ letter combin , make great typographi great .', \"beauti , histor , artist subtl way scienc ca n't captur , found fascin .\", 'none even hope practic applic life .', 'ten year later , design first macintosh comput , came back .', 'design mac .', 'first comput beauti typographi .', 'never drop singl cour colleg , mac would never multipl typefac proport space font .', \"sinc window copi mac , 's like person comput would .\", 'never drop , would never drop calligraphi class , person comput might wonder typographi .', 'cour imposs connect dot look forward colleg .', ', clear look backward ten year later .', \", ca n't connect dot look forward ; connect look backward .\", 'trust dot somehow connect futur .', 'trust someth — gut , destini , life , karma , whatev .', 'thi approach never let , made differ life .', 'second stori love loss .', 'lucki — found love ear life .', 'woz start appl parent ’ garag 20 .', 'work hard , 10 year appl grown two us garag $ 2 billion compani 4000 employ .', 'relea finest creation — macintosh — year earlier , turn 30 .', 'got fire .', 'get fire compani start ?', 'well , appl grew hire someon thought talent run compani , first year thing went well .', 'vision futur began diverg eventu fall .', ', board director side .', '30 .', 'public .', 'focu entir adult life gone , devast .', \"realli n't know month .\", 'felt let previou gener entrepreneur — drop baton pass .', 'met david packard bob noyc tri apolog screw bad .', 'public failur , even thought run away valley .', 'someth slowli began dawn — still love .', 'turn event appl chang one bit .', 'reject , still love .', 'decid start .', \"n't see , turn get fire appl best thing could ever happen .\", 'heavi success replac light beginn , less sure everyth .', 'freed enter one creativ period life .', 'dure next five year , start compani name next , anoth compani name pixar , fell love amaz woman would becom wife .', 'pixar went creat world ’ first comput anim featur film , toy stori , success anim studio world .', \"remark turn event , appl bought next , return appl , technolog develop next heart appl 's current renaiss .\", 'lauren wonder famili togeth .', \"'m pretti sure none would happen n't fire appl .\", 'aw tast medicin , guess patient need .', 'sometim life hit head brick .', \"n't lose faith .\", \"'m convinc thing kept go love .\", 've got find love .', 'true work lover .', 'work go fill larg part life , way truli satisfi believ great work .', 'way great work love .', \"n't found yet , keep look .\", \"n't settl .\", 'matter heart , ll know find .', ', like great relationship , get better better year roll .', 'keep look find .', \"n't settl .\", 'third stori death .', '17 , read quot went someth like : `` live day last , someday ll certain right . ``', 'made impress , sinc , past 33 year , look mirror everi morn ask : `` today last day life , would want today ? ``', 'whenev answer `` `` mani day row , know need chang someth .', 'rememb ll dead soon import tool ve ever encount help make big choic life .', 'becau almost everyth — extern expect , pride , fear embarrass failur — thing fall away face death , leav truli import .', 'rememb go die best way know avoid trap think someth lose .', 'alreadi nake .', 'reason follow heart .', 'year ago diagno cancer .', 'scan 7:30 morn , clear show tumor pancrea .', \"n't even know pancrea .\", 'doctor told almost certain type cancer incur , expect live longer three six month .', \"doctor advi go home get affair order , doctor 's code prepar die .\", \"mean tri tell kid everyth thought 'd next 10 year tell month .\", 'mean make sure everyth button easi possibl famili .', 'mean say goodbi .', 'live diagnosi day .', 'later even biopsi , stuck endoscop throat , stomach intestin , put needl pancrea got cell tumor .', 'sedat , wife , , told view cell microscop doctor start cri turn rare form pancreat cancer curabl surgeri .', \"surgeri 'm fine .\", \"thi closest ve face death , hope 's closest get decad .\", 'live , say bit certainti death use pure intellectu concept : one want die .', \"even peopl want go heaven n't want die get .\", 'yet death destin share .', 'one ever escap .', ', death like singl best invent life .', \"life 's chang agent .\", 'clear old make way new .', 'right new , someday long , gradual becom old clear away .', 'sorri dramat , quit true .', \"time limit , n't wast live someon el 's life .\", \"n't trap dogma — live result peopl 's think .\", \"n't let noi ' opinion drown inner voic .\", 'import , courag follow heart intuit .', 'somehow alreadi know truli want becom .', 'everyth el secondari .', 'young , amaz public calledth whole earth catalog , one bibl gener .', 'creat fellow name stewart brand far menlo park , brought life poetic touch .', 'thi late 1960 , person comput desktop publish , made typewrit , scissor , polaroid camera .', 'sort like googl paperback form , 35 year googl came along : idealist , overflow neat tool great notion .', 'stewart team put sever issu ofth whole earth catalog , run cour , put final issu .', 'mid-1970 , age .', 'back cover final issu photograph ear morn countri road , kind might find hitchhik adventur .', 'beneath word : `` stay hungri .', 'stay foolish . ``', 'farewel messag sign .', 'stay hungri .', 'stay foolish .', 'alway wish .', ', graduat begin anew , wish .', 'stay hungri .', 'stay foolish .', 'thank much .']\n"
     ]
    }
   ],
   "source": [
    "for i in range(len(sentences)):\n",
    "    words=nltk.word_tokenize(sentences[i])\n",
    "    words=[snowball_stemmer.stem(word) for word in words if word not in set(stopwords.words('english'))] #List comprehension\n",
    "    sentences[i]=' '.join(words) ##Joining all the words\n",
    "print(sentences)"
   ]
  },
  {
   "cell_type": "code",
   "execution_count": 22,
   "id": "0b9bd647",
   "metadata": {},
   "outputs": [],
   "source": [
    "from nltk.stem import WordNetLemmatizer\n",
    "lemmatizer = WordNetLemmatizer()"
   ]
  },
  {
   "cell_type": "code",
   "execution_count": 25,
   "id": "a13d923a",
   "metadata": {},
   "outputs": [
    {
     "name": "stdout",
     "output_type": "stream",
     "text": [
      "['honor today commenc one finest univ world .', 'never graduat colleg .', 'truth tell , closest ever get colleg graduat .', 'today want tell three stori life .', \"'s .\", 'big deal .', 'three stori .', 'first stori connect dot .', 'drop reed colleg first 6 month , stay around drop-in anoth 18 month realli quit .', 'drop ?', 'start bear .', 'biolog mother young , unw colleg graduat student , `` steve job 1955-2011 `` segagman licen cc 2.0. decid put adopt .', 'felt strong adopt colleg graduat , everyth set adopt birth lawyer wife .', 'except pop decid last minut realli want girl .', 'parent , wait list , get call middl night ask : `` unexpect babi boy ; want ? ``', 'say : `` cour . ``', 'biolog mother later find mother never graduat colleg father never graduat high school .', 'refu sign final adopt paper .', 'relent month later parent promi would someday go colleg .', '17 year later go colleg .', \"naiv choose colleg almost expen stanford , working-class parent ' save spend colleg tuition .\", \"six month , could n't see valu .\", 'idea want life idea colleg go help figur .', 'spend money parent save entir life .', 'decid drop trust would work ok .', 'pretti scari time , look back one best deci ever make .', \"minut drop could stop take requir class n't interest , begin drop one look interest .\", \"n't romant .\", \"n't dorm room , sleep floor friend ' room , return coke bottl 5¢ deposit buy food , would walk 7 mile across town everi sunday night get one good meal week hare krishna templ .\", 'love .', 'much stumbl follow curio intuit turn priceless later .', 'let give one exampl : reed colleg time offer perhap best calligraphi instruct countri .', 'throughout campu everi poster , everi label everi drawer , beauti hand calligraph .', \"becau drop n't take normal class , decid take calligraphi class learn .\", 'learn serif san serif typefac , vari amount space differ letter combin , make great typographi great .', \"beauti , histor , artist subtl way scienc ca n't captur , find fascin .\", 'none even hope practic applic life .', 'ten year later , design first macintosh comput , come back .', 'design mac .', 'first comput beauti typographi .', 'never drop singl cour colleg , mac would never multipl typefac proport space font .', \"sinc window copi mac , 's like person comput would .\", 'never drop , would never drop calligraphi class , person comput might wonder typographi .', 'cour imposs connect dot look forward colleg .', ', clear look backward ten year later .', \", ca n't connect dot look forward ; connect look backward .\", 'trust dot somehow connect futur .', 'trust someth — gut , destini , life , karma , whatev .', 'thi approach never let , make differ life .', 'second stori love loss .', 'lucki — find love ear life .', 'woz start appl parent ’ garag 20 .', 'work hard , 10 year appl grow two u garag $ 2 billion compani 4000 employ .', 'relea finest creation — macintosh — year earlier , turn 30 .', 'get fire .', 'get fire compani start ?', 'well , appl grow hire someon think talent run compani , first year thing go well .', 'vision futur begin diverg eventu fall .', ', board director side .', '30 .', 'public .', 'focu entir adult life go , devast .', \"realli n't know month .\", 'felt let previou gener entrepreneur — drop baton pas .', 'meet david packard bob noyc tri apolog screw bad .', 'public failur , even think run away valley .', 'someth slowli begin dawn — still love .', 'turn event appl chang one bite .', 'reject , still love .', 'decid start .', \"n't see , turn get fire appl best thing could ever happen .\", 'heavi success replac light beginn , less sure everyth .', 'free enter one creativ period life .', 'dure next five year , start compani name next , anoth compani name pixar , fell love amaz woman would becom wife .', 'pixar go creat world ’ first comput anim featur film , toy stori , success anim studio world .', \"remark turn event , appl buy next , return appl , technolog develop next heart appl 's current renaiss .\", 'lauren wonder famili togeth .', \"'m pretti sure none would happen n't fire appl .\", 'aw tast medicin , guess patient need .', 'sometim life hit head brick .', \"n't lose faith .\", \"'m convinc thing keep go love .\", 'get find love .', 'true work lover .', 'work go fill larg part life , way truli satisfi believ great work .', 'way great work love .', \"n't find yet , keep look .\", \"n't settl .\", 'matter heart , know find .', ', like great relationship , get better better year roll .', 'keep look find .', \"n't settl .\", 'third stori death .', '17 , read quot go someth like : `` live day last , someday certain right . ``', 'make impress , sinc , past 33 year , look mirror everi morn ask : `` today last day life , would want today ? ``', 'whenev answer `` `` mani day row , know need chang someth .', 'rememb dead soon import tool ever encount help make big choic life .', 'becau almost everyth — extern expect , pride , fear embarrass failur — thing fall away face death , leav truli import .', 'rememb go die best way know avoid trap think someth lose .', 'alreadi nake .', 'reason follow heart .', 'year ago diagno cancer .', 'scan 7:30 morn , clear show tumor pancrea .', \"n't even know pancrea .\", 'doctor tell almost certain type cancer incur , expect live longer three six month .', \"doctor advi go home get affair order , doctor 's code prepar die .\", \"mean tri tell kid everyth think 'd next 10 year tell month .\", 'mean make sure everyth button easi possibl famili .', 'mean say goodbi .', 'live diagnosi day .', 'later even biopsi , stick endoscop throat , stomach intestin , put needl pancrea get cell tumor .', 'sedat , wife , , tell view cell microscop doctor start cri turn rare form pancreat cancer curabl surgeri .', \"surgeri 'm fine .\", \"thi closest face death , hope 's closest get decad .\", 'live , say bite certainti death use pure intellectu concept : one want die .', \"even peopl want go heaven n't want die get .\", 'yet death destin share .', 'one ever escap .', ', death like singl best invent life .', \"life 's chang agent .\", 'clear old make way new .', 'right new , someday long , gradual becom old clear away .', 'sorri dramat , quit true .', \"time limit , n't wast live someon el 's life .\", \"n't trap dogma — live result peopl 's think .\", \"n't let noi ' opinion drown inner voic .\", 'import , courag follow heart intuit .', 'somehow alreadi know truli want becom .', 'everyth el secondari .', 'young , amaz public calledth whole earth catalog , one bibl gener .', 'creat fellow name stewart brand far menlo park , bring life poetic touch .', 'thi late 1960 , person comput desktop publish , make typewrit , scissor , polaroid camera .', 'sort like googl paperback form , 35 year googl come along : idealist , overflow neat tool great notion .', 'stewart team put sever issu ofth whole earth catalog , run cour , put final issu .', 'mid-1970 , age .', 'back cover final issu photograph ear morn countri road , kind might find hitchhik adventur .', 'beneath word : `` stay hungri .', 'stay foolish . ``', 'farewel messag sign .', 'stay hungri .', 'stay foolish .', 'alway wish .', ', graduat begin anew , wish .', 'stay hungri .', 'stay foolish .', 'thank much .']\n"
     ]
    }
   ],
   "source": [
    "for i in range(len(sentences)):\n",
    "    words=nltk.word_tokenize(sentences[i])\n",
    "    words=[lemmatizer.lemmatize(word.lower(),pos='v') for word in words if word not in set(stopwords.words('english'))] #List comprehension\n",
    "    sentences[i]=' '.join(words) ##Joining all the words\n",
    "print(sentences)"
   ]
  },
  {
   "cell_type": "code",
   "execution_count": null,
   "id": "5dc6ed94",
   "metadata": {},
   "outputs": [],
   "source": []
  }
 ],
 "metadata": {
  "kernelspec": {
   "display_name": "Python 3",
   "language": "python",
   "name": "python3"
  },
  "language_info": {
   "codemirror_mode": {
    "name": "ipython",
    "version": 3
   },
   "file_extension": ".py",
   "mimetype": "text/x-python",
   "name": "python",
   "nbconvert_exporter": "python",
   "pygments_lexer": "ipython3",
   "version": "3.12.0"
  }
 },
 "nbformat": 4,
 "nbformat_minor": 5
}
